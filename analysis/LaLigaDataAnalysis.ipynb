{
 "cells": [
  {
   "cell_type": "code",
   "execution_count": 271,
   "metadata": {},
   "outputs": [],
   "source": [
    "import numpy as np\n",
    "import pandas as pd\n",
    "from pandas import DataFrame\n",
    "import sqlite3\n",
    "import sys\n",
    "from typing import Tuple\n",
    "import os\n",
    "import operator\n",
    "import matplotlib.pyplot as plt\n",
    "\n",
    "\n",
    "# Append the parent directory to sys.path\n",
    "sys.path.append(os.path.abspath(os.path.join(os.getcwd(), \"..\")))\n",
    "\n",
    "# Now you can import the settings module\n",
    "import settings"
   ]
  },
  {
   "cell_type": "markdown",
   "metadata": {},
   "source": [
    "# UTILS"
   ]
  },
  {
   "cell_type": "markdown",
   "metadata": {},
   "source": [
    "## Dict"
   ]
  },
  {
   "cell_type": "code",
   "execution_count": null,
   "metadata": {},
   "outputs": [],
   "source": [
    "# Abreviatures extracted from https://laligafv.foroactivo.com/t5325-abreviaturas-de-los-equipos\n",
    "team_names_3 = {\n",
    "    \"Alavés\": \"ALA\",\n",
    "    \"Athletic\": \"ATH\",\n",
    "    \"Atlético Madrid\": \"ATM\",\n",
    "    \"Barcelona\": \"BAR\",\n",
    "    \"CA Osasuna\": \"OSA\",\n",
    "    \"Celta de Vigo\": \"CEL\",\n",
    "    \"Cádiz CF\": \"CAD\",\n",
    "    \"Elche CF\": \"ELC\",\n",
    "    \"Getafe\": \"GET\",\n",
    "    \"Granada CF\": \"GRA\",\n",
    "    \"Levante\": \"LEV\",\n",
    "    \"Real Betis\": \"BET\",\n",
    "    \"Real Madrid\": \"RMA\",\n",
    "    \"Real Sociedad\": \"RSO\",\n",
    "    \"Real Valladolid\": \"VLL\",\n",
    "    \"SD Eibar\": \"EIB\",\n",
    "    \"SD Huesca\": \"HUE\",\n",
    "    \"Sevilla FC\": \"SEV\",\n",
    "    \"Valencia\": \"VAL\",\n",
    "    \"Villarreal\": \"VIL\",\n",
    "}"
   ]
  },
  {
   "cell_type": "markdown",
   "metadata": {},
   "source": [
    "## Functions"
   ]
  },
  {
   "cell_type": "code",
   "execution_count": null,
   "metadata": {},
   "outputs": [],
   "source": [
    "def select_team(df: DataFrame, team: str) -> DataFrame:\n",
    "    \"\"\"\n",
    "    Creates a dataframe with all matches for a specific team, adding interesting values as if the team is local or visitor,\n",
    "    and if the team won, tied, or lost.\n",
    "\n",
    "    :param df: DataFrame containing match data.\n",
    "    :type df: pd.DataFrame\n",
    "    :param team: The name of the team to select matches for.\n",
    "    :type team: str\n",
    "    :return: DataFrame with matches for the specified team, including additional columns\n",
    "             indicating if the team is local, if the team won, tied, or did not lose.\n",
    "    :rtype: pd.DataFrame\n",
    "    \"\"\"\n",
    "    df_team = df.loc[(df[\"home_team\"] == team) | (df[\"away_team\"] == team)].copy()\n",
    "    df_team[\"is_local\"] = df_team[\"home_team\"] == team\n",
    "    df_team[\"is_winner\"] = ((df_team[\"winner\"] == 1) & df_team[\"is_local\"]) | (\n",
    "        (df_team[\"winner\"] == 2) & ~df_team[\"is_local\"]\n",
    "    )\n",
    "    df_team[\"is_tie\"] = df_team[\"winner\"] == 0\n",
    "    df_team[\"is_non_lose\"] = df_team[\"is_winner\"] | df_team[\"is_tie\"]\n",
    "    return df_team"
   ]
  },
  {
   "cell_type": "code",
   "execution_count": null,
   "metadata": {},
   "outputs": [],
   "source": [
    "def filter_season(df: DataFrame, season: str) -> DataFrame:\n",
    "    \"\"\"\n",
    "    Filters and returns the matches within a specified season.\n",
    "\n",
    "    :param df: DataFrame containing match data.\n",
    "    :param season: Season where values will be extracted\n",
    "\n",
    "    :return: DataFrame containing the matches within the specified season.\n",
    "    \"\"\"\n",
    "\n",
    "    return df.loc[df[\"season\"] == season]\n",
    "\n",
    "\n",
    "def extract_season_values(\n",
    "    df: DataFrame, season: str, column: str\n",
    ") -> Tuple[DataFrame, DataFrame]:\n",
    "    \"\"\"\n",
    "    Extracts and returns the counts of matches per weekday and per time within a specified season.\n",
    "\n",
    "    :param df: DataFrame containing match data.\n",
    "    :param season: Season where values will be extracted\n",
    "    :param column: The column name to be used for extracting time values.\n",
    "\n",
    "    :return: A tuple containing two DataFrames:\n",
    "        - df_weekday: DataFrame with counts of matches per weekday.\n",
    "        - df_time: DataFrame with counts of matches per time.\n",
    "    \"\"\"\n",
    "    df_season = filter_season(df, season)\n",
    "\n",
    "    df_weekday = df_season[\"date\"].dt.day_name().value_counts().reset_index()\n",
    "    df_weekday.columns = [\"weekday\", \"count\"]\n",
    "\n",
    "    df_time = df_season[column].value_counts().reset_index()\n",
    "    df_time.columns = [\"time\", \"count\"]\n",
    "    return df_weekday, df_time"
   ]
  },
  {
   "cell_type": "code",
   "execution_count": null,
   "metadata": {},
   "outputs": [],
   "source": [
    "\n",
    "def won_games(df, team: str):\n",
    "    \"\"\"\n",
    "    Returns those winning games for a given team\n",
    "    \"\"\"\n",
    "    home_wins = (df[\"home_team\"] == team) & (df[\"winner\"] == 1)\n",
    "    away_wins = (df[\"away_team\"] == team) & (df[\"winner\"] == 2)\n",
    "    return df[home_wins | away_wins]\n",
    "\n",
    "def lost_games(df, team: str):\n",
    "    \"\"\"\n",
    "    Returns those winning games for a given team\n",
    "    \"\"\"\n",
    "    home_lost = (df[\"home_team\"] == team) & (df[\"winner\"] == 2)\n",
    "    away_lost = (df[\"away_team\"] == team) & (df[\"winner\"] == 1)\n",
    "\n",
    "    return df[home_lost | away_lost]\n",
    "\n",
    "def count_team_wins(df: DataFrame, team: str) -> int:\n",
    "    \"\"\"\n",
    "    Count the number of wins for a specified team in a given DataFrame.\n",
    "\n",
    "    :param df: DataFrame containing match results with columns \"home_team\", \"away_team\", and \"winner\".\n",
    "                \"winner\" is expected to be 1 for home team wins and 2 for away team wins.\n",
    "    :param team: Name of the team for which to count wins.\n",
    "    :return: The number of wins for the specified team.\n",
    "    \"\"\"\n",
    "\n",
    "    return won_games(df, team).shape[0]\n",
    "\n",
    "def count_team_lost(df: DataFrame, team: str) -> int:\n",
    "    \"\"\"\n",
    "    Count the number of lost for a specified team in a given DataFrame.\n",
    "\n",
    "    :param df: DataFrame containing match results with columns \"home_team\", \"away_team\", and \"winner\".\n",
    "                \"winner\" is expected to be 2 for home team losts and 1 for away team losts.\n",
    "    :param team: Name of the team for which to count losts.\n",
    "    :return: The number of losts for the specified team.\n",
    "    \"\"\"\n",
    "\n",
    "    return lost_games(df, team).shape[0]\n",
    "\n",
    "\n",
    "def count_team_goals(df: DataFrame, team: str) -> int:\n",
    "    \"\"\"\n",
    "    Count the total number of goals scored by a specific team.\n",
    "\n",
    "    :param df: The DataFrame containing match data.\n",
    "    :type df: pd.DataFrame\n",
    "    :param team: The name of the team for which to count the goals.\n",
    "    :type team: str\n",
    "    :return: The total number of goals scored by the team.\n",
    "    :rtype: int\n",
    "    \"\"\"\n",
    "    home_goals = df[df[\"home_team\"] == team]\n",
    "    away_goals = df[df[\"away_team\"] == team]\n",
    "    return home_goals[\"home_score\"].sum() + away_goals[\"away_score\"].sum()"
   ]
  },
  {
   "cell_type": "markdown",
   "metadata": {},
   "source": [
    "# LOAD DATA"
   ]
  },
  {
   "cell_type": "code",
   "execution_count": 272,
   "metadata": {},
   "outputs": [],
   "source": [
    "with sqlite3.connect(settings.DATABASE_PATH) as conn:\n",
    "    df = pd.read_sql(\n",
    "        f\"\"\"\n",
    "            SELECT * FROM Matches\n",
    "        \"\"\",\n",
    "        conn,\n",
    "    )"
   ]
  },
  {
   "cell_type": "markdown",
   "metadata": {},
   "source": [
    "## Pretreatment"
   ]
  },
  {
   "cell_type": "markdown",
   "metadata": {},
   "source": [
    "Date is provided as mm/dd/YY as there two centuries (1900/2000) the format mm/dd/YYYY will be used to more clear."
   ]
  },
  {
   "cell_type": "code",
   "execution_count": 273,
   "metadata": {},
   "outputs": [],
   "source": [
    "def adjust_date(row):\n",
    "    \"\"\"\n",
    "    Adjust the date by adding the correct century based on the season.\n",
    "    If the date's year is less than the season's end year, use the start year,\n",
    "    otherwise use the end year of the season.\n",
    "\n",
    "    :param row: A row from the DataFrame containing 'date' and 'season'.\n",
    "    :return: Adjusted date string in the format DD/MM/YYYY.\n",
    "    \"\"\"\n",
    "    start_year = int(row[\"season\"].split(\"-\")[0])\n",
    "    end_year = int(row[\"season\"].split(\"-\")[1])\n",
    "    date_year = int(row[\"date\"].split(\"/\")[-1]) \n",
    "\n",
    "    if (\n",
    "        date_year == start_year % 100\n",
    "    ): \n",
    "        return row[\"date\"][:-2] + str(start_year) \n",
    "    else:\n",
    "        return row[\"date\"][:-2] + str(end_year)  \n",
    "\n",
    "\n",
    "df[\"date\"] = df.apply(adjust_date, axis=1)\n",
    "df = df.dropna(subset=[\"date\"])\n",
    "df[\"date\"] = pd.to_datetime(df[\"date\"], format=\"%m/%d/%Y\")"
   ]
  },
  {
   "cell_type": "markdown",
   "metadata": {},
   "source": [
    "Pendent de veure amb que omplim els valors nuls"
   ]
  },
  {
   "cell_type": "code",
   "execution_count": 274,
   "metadata": {},
   "outputs": [],
   "source": [
    "df[\"score\"] = df[\"score\"].fillna(\"0:0\")"
   ]
  },
  {
   "cell_type": "markdown",
   "metadata": {},
   "source": [
    "Creation of util columns that will be used commonly. "
   ]
  },
  {
   "cell_type": "code",
   "execution_count": 275,
   "metadata": {},
   "outputs": [],
   "source": [
    "df[\"home_score\"] = df[\"score\"].str.split(\":\").str[0].astype(int)\n",
    "df[\"away_score\"] = df[\"score\"].str.split(\":\").str[1].astype(int)\n",
    "df[\"winner\"] = np.where(\n",
    "    df[\"home_score\"] > df[\"away_score\"],\n",
    "    1,\n",
    "    np.where(df[\"home_score\"] < df[\"away_score\"], 2, 0), # 1 home win, 2 away win and 0 tie.\n",
    ")"
   ]
  },
  {
   "cell_type": "markdown",
   "metadata": {},
   "source": [
    "## EX 1"
   ]
  },
  {
   "cell_type": "code",
   "execution_count": null,
   "metadata": {},
   "outputs": [],
   "source": [
    "home_wins = int(len(df[\"winner\"].loc[df[\"winner\"] == 1]))\n",
    "away_wins = int(len(df[\"winner\"].loc[df[\"winner\"] == 2]))\n",
    "ties = int(len(df[\"winner\"].loc[df[\"winner\"] == 0]))"
   ]
  },
  {
   "cell_type": "code",
   "execution_count": null,
   "metadata": {},
   "outputs": [],
   "source": [
    "labels = [\"home Wins\", \"away Wins\", \"Ties\"]\n",
    "sizes = [home_wins, away_wins, ties]\n",
    "\n",
    "plt.figure(figsize=(4, 4))\n",
    "plt.pie(sizes, labels=labels, autopct=\"%1.1f%%\")\n",
    "\n",
    "plt.title(\"Match results\")"
   ]
  },
  {
   "cell_type": "markdown",
   "metadata": {},
   "source": [
    "# Ex2"
   ]
  },
  {
   "cell_type": "code",
   "execution_count": 277,
   "metadata": {},
   "outputs": [],
   "source": [
    "df_1 = df.loc[df[\"division\"] == 1].copy()"
   ]
  },
  {
   "cell_type": "code",
   "execution_count": null,
   "metadata": {},
   "outputs": [],
   "source": [
    "scored_goals = (\n",
    "    df_1.groupby(\"home_team\")[\"home_score\"].sum()\n",
    "    + df_1.groupby(\"away_team\")[\"away_score\"].sum()\n",
    ").sort_values(ascending=False)\n",
    "\n",
    "top_10_scored = scored_goals[:10]\n",
    "\n",
    "print(top_10_scored)"
   ]
  },
  {
   "cell_type": "code",
   "execution_count": null,
   "metadata": {},
   "outputs": [],
   "source": [
    "conceded_goals = (\n",
    "    df_1.groupby(\"home_team\")[\"away_score\"].sum()\n",
    "    + df_1.groupby(\"away_team\")[\"home_score\"].sum()\n",
    ").sort_values(ascending=False)\n",
    "\n",
    "top_10_conceded = conceded_goals[:10]\n",
    "\n",
    "print(top_10_conceded)"
   ]
  },
  {
   "cell_type": "code",
   "execution_count": null,
   "metadata": {},
   "outputs": [],
   "source": [
    "fig, axs = plt.subplots(1, 2, figsize=(14, 6))\n",
    "\n",
    "top_10_scored.plot(kind=\"bar\", color=\"red\", ax=axs[0])\n",
    "axs[0].set_title(\"Top 10 Teams with Most Scored Goals\")\n",
    "axs[0].set_xlabel(\"Teams\")\n",
    "axs[0].set_ylabel(\"Total Scored Goals\")\n",
    "axs[0].set_xticklabels(top_10_scored.index, rotation=45)\n",
    "axs[0].grid(axis=\"y\")\n",
    "\n",
    "top_10_conceded.plot(kind=\"bar\", color=\"skyblue\", ax=axs[1])\n",
    "axs[1].set_title(\"Top 10 Teams with Most Conceded Goals\")\n",
    "axs[1].set_xlabel(\"Teams\")\n",
    "axs[1].set_ylabel(\"Total Conceded Goals\")\n",
    "axs[1].set_xticklabels(top_10_conceded.index, rotation=45)\n",
    "axs[1].grid(axis=\"y\")"
   ]
  },
  {
   "cell_type": "code",
   "execution_count": null,
   "metadata": {},
   "outputs": [],
   "source": [
    "df_1[\"difference_score\"] = df_1[\"home_score\"] - df_1[\"away_score\"]\n",
    "df_1[\"abs_difference_score\"] = df_1[\"difference_score\"].abs()\n",
    "df_1.sort_values(\"abs_difference_score\", ascending=False).head(10)[\n",
    "    [\"home_team\", \"away_team\", \"score\"]\n",
    "]"
   ]
  },
  {
   "cell_type": "markdown",
   "metadata": {},
   "source": [
    "# EX3"
   ]
  },
  {
   "cell_type": "code",
   "execution_count": null,
   "metadata": {},
   "outputs": [],
   "source": [
    "df_weekday = df[\"date\"].dt.day_name().value_counts()\n",
    "df_time = df[\"time\"].value_counts()\n",
    "\n",
    "df_weekday = df_weekday.reset_index()\n",
    "df_weekday.columns = [\"weekday\", \"count\"]\n",
    "\n",
    "df_time = df_time.reset_index()\n",
    "df_time.columns = [\"time\", \"count\"]\n",
    "\n",
    "fig, axes = plt.subplots(nrows=2, ncols=1, figsize=(10, 10))\n",
    "\n",
    "axes[0].bar(df_weekday[\"weekday\"], df_weekday[\"count\"], color=\"blue\")\n",
    "axes[0].set_title(\"Matches Each Weekday\")\n",
    "axes[0].set_xlabel(\"Weekday\")\n",
    "axes[0].set_ylabel(\"Number of matches\")\n",
    "axes[0].set_xticks(range(len(df_weekday[\"weekday\"])))\n",
    "axes[0].set_xticklabels(df_weekday[\"weekday\"], rotation=45)\n",
    "axes[0].grid(axis=\"y\")\n",
    "\n",
    "axes[1].bar(df_time[\"time\"], df_time[\"count\"], color=\"green\")\n",
    "axes[1].set_title(\"Matches Each Time\")\n",
    "axes[1].set_xlabel(\"Time\")\n",
    "axes[1].set_ylabel(\"Number of matches\")\n",
    "axes[1].set_xticks(range(len(df_time[\"time\"])))\n",
    "axes[1].set_xticklabels(df_time[\"time\"], rotation=45, fontsize=7)\n",
    "axes[1].grid(axis=\"y\")\n",
    "\n",
    "plt.subplots_adjust(hspace=0.5)\n",
    "\n",
    "plt.show()"
   ]
  },
  {
   "cell_type": "code",
   "execution_count": null,
   "metadata": {},
   "outputs": [],
   "source": [
    "df_weekday_2000, df_time_2000 = extract_season_values(df, \"2000-2001\", \"date\")\n",
    "df_weekday_2020, df_time_2020 = extract_season_values(df, \"2020-2021\", \"date\")\n",
    "\n",
    "fig, axes = plt.subplots(nrows=2, ncols=1, figsize=(10, 10))\n",
    "\n",
    "axes[0].bar(df_weekday_2000[\"weekday\"], df_weekday_2000[\"count\"], color=\"blue\")\n",
    "axes[0].set_title(\"Matches Each Weekday Season 2000-2001\")\n",
    "axes[0].set_xlabel(\"Weekday\")\n",
    "axes[0].set_ylabel(\"Number of matches\")\n",
    "axes[0].set_xticks(range(len(df_weekday_2000[\"weekday\"])))\n",
    "axes[0].set_xticklabels(df_weekday_2000[\"weekday\"], rotation=45)\n",
    "axes[0].grid(axis=\"y\")\n",
    "\n",
    "axes[1].bar(df_weekday_2020[\"weekday\"], df_weekday_2020[\"count\"], color=\"green\")\n",
    "axes[1].set_title(\"Matches Each Weekday Season 2020-2021\")\n",
    "axes[1].set_xlabel(\"Weekday\")\n",
    "axes[1].set_ylabel(\"Number of matches\")\n",
    "axes[1].set_xticks(range(len(df_weekday_2020[\"weekday\"])))\n",
    "axes[1].set_xticklabels(df_weekday_2020[\"weekday\"], rotation=45)\n",
    "axes[1].grid(axis=\"y\")\n",
    "\n",
    "plt.subplots_adjust(hspace=0.5)\n",
    "\n",
    "plt.show()"
   ]
  },
  {
   "cell_type": "markdown",
   "metadata": {},
   "source": [
    "# EX4"
   ]
  },
  {
   "cell_type": "code",
   "execution_count": 285,
   "metadata": {},
   "outputs": [],
   "source": [
    "def highlight_wins(val):\n",
    "    if isinstance(val, str):\n",
    "        val = int(val.split(\":\")[0]) - int(val.split(\":\")[1])\n",
    "    if val > 0:\n",
    "        intensity = min(val / 10, 1)\n",
    "        return f\"background-color: rgba(0, 255, 0, {intensity})\"\n",
    "    elif val < 0:\n",
    "        intensity = min(-val / 10, 1)\n",
    "        return f\"background-color: rgba(255, 0, 0, {intensity})\"\n",
    "    elif val == 0:\n",
    "        intensity = 0.5\n",
    "        return f\"background-color: rgba(255, 255, 0, {intensity})\"\n",
    "    elif val == \"\":\n",
    "        return f\"background-color: rgba(255, 255, 255, 1)\"\n",
    "    return \"\""
   ]
  },
  {
   "cell_type": "code",
   "execution_count": null,
   "metadata": {},
   "outputs": [],
   "source": [
    "df_2020 = filter_season(df_1, \"2020-2021\")\n",
    "\n",
    "cross_table = pd.crosstab(\n",
    "    df_2020[\"home_team\"], df_2020[\"away_team\"], values=df_2020[\"score\"], aggfunc=\"sum\"\n",
    ")\n",
    "\n",
    "cross_table = cross_table.rename(columns=team_names_3)\n",
    "\n",
    "cross_table.index.name = None\n",
    "cross_table.columns.name = \"Home & Away\"\n",
    "\n",
    "cross_table = cross_table.style.applymap(highlight_wins)\n",
    "\n",
    "cross_table"
   ]
  },
  {
   "cell_type": "code",
   "execution_count": 287,
   "metadata": {},
   "outputs": [],
   "source": [
    "# queda fer la funcio"
   ]
  },
  {
   "cell_type": "markdown",
   "metadata": {},
   "source": [
    "# EX5"
   ]
  },
  {
   "cell_type": "code",
   "execution_count": 288,
   "metadata": {},
   "outputs": [],
   "source": [
    "def team_confrontations(df, team1, team2):\n",
    "    df_confrontations = df.loc[\n",
    "        ((df[\"home_team\"] == team1) | (df[\"away_team\"] == team1))\n",
    "        & ((df[\"home_team\"] == team2) | (df[\"away_team\"] == team2))\n",
    "    ][[\"home_team\", \"away_team\", \"home_score\", \"away_score\", \"winner\"]]\n",
    "\n",
    "    return df_confrontations"
   ]
  },
  {
   "cell_type": "code",
   "execution_count": null,
   "metadata": {},
   "outputs": [],
   "source": [
    "df_bm = team_confrontations(df, \"Barcelona\", \"Real Madrid\")\n",
    "bcn_wins = count_team_wins(df_bm, \"Barcelona\")\n",
    "mad_wins = count_team_wins(df_bm, \"Real Madrid\")\n",
    "ties = df_bm[df_bm[\"winner\"] == 0][\"winner\"].count()\n",
    "print(\n",
    "    f\"Barcelona has won {bcn_wins} games, while Real Madrid has won {mad_wins} games. There has been {ties} ties.\"\n",
    ")"
   ]
  },
  {
   "cell_type": "code",
   "execution_count": null,
   "metadata": {},
   "outputs": [],
   "source": [
    "bcn_goals = count_team_goals(df_bm, \"Barcelona\")\n",
    "mad_goals = count_team_goals(df_bm, \"Real Madrid\")\n",
    "\n",
    "print(\n",
    "    f\"Barcelona has scored {bcn_goals} goals, while Real Madrid has scored {mad_goals} goals\"\n",
    ")"
   ]
  },
  {
   "cell_type": "code",
   "execution_count": 291,
   "metadata": {},
   "outputs": [],
   "source": [
    "def plot_direct_confrontations_stats(df: DataFrame, team1: str, team2: str):\n",
    "    \"\"\"\n",
    "    Plot the statistics of direct confrontations between two teams.\n",
    "\n",
    "    :param df: The DataFrame containing match data.\n",
    "    :type df: pd.DataFrame\n",
    "    :param team1: The name of the first team.\n",
    "    :type team1: str\n",
    "    :param team2: The name of the second team.\n",
    "    :type team2: str\n",
    "    \"\"\"\n",
    "    if team1 not in team_names_3:\n",
    "        raise ValueError(f\"Team {team1} not found in the team names dictionary.\")\n",
    "    if team2 not in team_names_3:\n",
    "        raise ValueError(f\"Team {team2} not found in the team names dictionary.\")\n",
    "\n",
    "    df_confrontations = team_confrontations(df, team1, team2)\n",
    "    team1_wins = count_team_wins(df_confrontations, team1)\n",
    "    team2_wins = count_team_wins(df_confrontations, team2)\n",
    "    ties = df_confrontations[df_confrontations[\"winner\"] == 0][\"winner\"].count()\n",
    "\n",
    "    labels = [f\"{team1} Wins\", f\"{team2} Wins\", \"Ties\"]\n",
    "    sizes = [team1_wins, team2_wins, ties]\n",
    "\n",
    "    plt.figure(figsize=(5, 5))\n",
    "    plt.pie(sizes, labels=labels, autopct=\"%1.1f%%\")\n",
    "\n",
    "    plt.title(\"Match results\")\n",
    "    plt.show()"
   ]
  },
  {
   "cell_type": "code",
   "execution_count": null,
   "metadata": {},
   "outputs": [],
   "source": [
    "plot_direct_confrontations_stats(df, \"Real Betis\", \"Sevilla FC\")\n",
    "plot_direct_confrontations_stats(df, \"Barcelona\", \"Athletic\")"
   ]
  },
  {
   "cell_type": "markdown",
   "metadata": {},
   "source": [
    "# EX6"
   ]
  },
  {
   "cell_type": "code",
   "execution_count": 293,
   "metadata": {},
   "outputs": [],
   "source": [
    "# NO UTILITZAT\n"
   ]
  },
  {
   "cell_type": "code",
   "execution_count": null,
   "metadata": {},
   "outputs": [],
   "source": [
    "def replace_strikes_with_max(data):\n",
    "    \"\"\"\n",
    "    Replace each sequence of consecutive increasing non-zero numbers in the list\n",
    "    with the maximum value of that sequence.\n",
    "\n",
    "    POSSIBLE MARGE DE MILLORA\n",
    "    \"\"\"\n",
    "    result = []\n",
    "    current_strike = []\n",
    "\n",
    "    for value in data:\n",
    "        if value == 0 or (current_strike and value != current_strike[-1] + 1):\n",
    "            if current_strike:\n",
    "                max_value = max(current_strike)\n",
    "                result.extend([max_value] * len(current_strike))\n",
    "            current_strike = []\n",
    "\n",
    "        if value != 0:\n",
    "            current_strike.append(value)\n",
    "        result.append(0) if value == 0 else None\n",
    "\n",
    "    if current_strike:\n",
    "        max_value = max(current_strike)\n",
    "        result.extend([max_value] * len(current_strike))\n",
    "\n",
    "    return set(result)\n",
    "\n",
    "\n",
    "def calculate_non_lose_strike(df, team):\n",
    "    \"\"\"\n",
    "    Calculate the non-lose streak for a given team, and replace each strike with its maximum value.\n",
    "    \"\"\"\n",
    "    df_team = select_team(df, team)\n",
    "\n",
    "    df_team[\"non_lose_streak\"] = (\n",
    "        df_team[\"is_non_lose\"]\n",
    "        .groupby((df_team[\"is_non_lose\"] != df_team[\"is_non_lose\"].shift()).cumsum())\n",
    "        .cumsum()\n",
    "    )\n",
    "\n",
    "    non_lose_strike = df_team[\"non_lose_streak\"].tolist()\n",
    "    return replace_strikes_with_max(non_lose_strike)"
   ]
  },
  {
   "cell_type": "code",
   "execution_count": 299,
   "metadata": {},
   "outputs": [
    {
     "name": "stdout",
     "output_type": "stream",
     "text": [
      "Top 10 teams with biggest non-lose strikes ever are                team  strike\n",
      "1040    Real Madrid      55\n",
      "273      CA Osasuna      49\n",
      "1321  UD Las Palmas      44\n",
      "400     CD Tenerife      44\n",
      "907    RCD Mallorca      44\n",
      "...             ...     ...\n",
      "1225   Sestao Sport       0\n",
      "358       CD Málaga       0\n",
      "848   Orihuela Dep.       0\n",
      "1235   Sevilla Atl.       0\n",
      "0        AD Almería       0\n",
      "\n",
      "[1441 rows x 2 columns]\n"
     ]
    }
   ],
   "source": [
    "\n",
    "\n",
    "\n",
    "unique_teams = sorted(df[\"home_team\"].unique())\n",
    "non_lose_strike_data = []\n",
    "\n",
    "for team in unique_teams:\n",
    "    non_lose_strike = calculate_non_lose_strike(df, team)\n",
    "    for strike in non_lose_strike:\n",
    "        non_lose_strike_data.append((team, strike))\n",
    "\n",
    "non_lose_strike_df = pd.DataFrame(non_lose_strike_data, columns=[\"team\", \"strike\"])\n",
    "non_lose_strike_df = non_lose_strike_df.sort_values(by=\"strike\", ascending=False)\n",
    "\n",
    "\n",
    "print(\"Top 10 teams with biggest non-lose strikes ever are\", non_lose_strike_df)"
   ]
  },
  {
   "cell_type": "code",
   "execution_count": 300,
   "metadata": {},
   "outputs": [
    {
     "data": {
      "image/png": "[encoded data removed]",
      "text/plain": [
       "<Figure size 1200x800 with 1 Axes>"
      ]
     },
     "metadata": {},
     "output_type": "display_data"
    }
   ],
   "source": [
    "top_50_non_lose_strike_df = non_lose_strike_df.head(50)\n",
    "\n",
    "plt.figure(figsize=(12, 8))\n",
    "plt.barh(\n",
    "    top_50_non_lose_strike_df[\"team\"],\n",
    "    top_50_non_lose_strike_df[\"strike\"],\n",
    "    color=\"skyblue\",\n",
    ")\n",
    "plt.xlabel(\"Non-Lose Strike\")\n",
    "plt.ylabel(\"Team\")\n",
    "plt.title(\"Top 50 Teams with Biggest Non-Lose Strikes\")\n",
    "plt.gca().invert_yaxis()  # Invert y-axis to have the highest values at the top\n",
    "plt.show()"
   ]
  },
  {
   "cell_type": "code",
   "execution_count": null,
   "metadata": {},
   "outputs": [],
   "source": []
  }
 ],
 "metadata": {
  "kernelspec": {
   "display_name": ".venv",
   "language": "python",
   "name": "python3"
  },
  "language_info": {
   "codemirror_mode": {
    "name": "ipython",
    "version": 3
   },
   "file_extension": ".py",
   "mimetype": "text/x-python",
   "name": "python",
   "nbconvert_exporter": "python",
   "pygments_lexer": "ipython3",
   "version": "3.7.9"
  }
 },
 "nbformat": 4,
 "nbformat_minor": 2
}
